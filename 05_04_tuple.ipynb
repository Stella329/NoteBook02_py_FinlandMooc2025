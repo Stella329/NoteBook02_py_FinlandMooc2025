{
 "cells": [
  {
   "cell_type": "markdown",
   "id": "512926ce",
   "metadata": {},
   "source": [
    "# Part5 Section04"
   ]
  },
  {
   "cell_type": "markdown",
   "id": "865f8767",
   "metadata": {},
   "source": [
    "## part05-26_student_database\n",
    "\n",
    "In this series of exercises you will create a simple student database. Before diving in, please spend a moment reading through the instructions and thinking about what sort of data structures are necessary for organising the data stored by your program.\n",
    "\n",
    "Part1 adding students\n",
    "First write a function named add_student, which adds a new student to the database. Also write a preliminary version of the function print_student, which prints out the information of a single student.\n",
    "\n",
    "Part2 adding completed courses\n",
    "Please write a function named add_course, which adds a completed course to the information of a specific student in the database. The course data is a tuple consisting of the name of the course and the grade\n",
    "\n",
    "Part3 repeating courses\n",
    "Courses with grade 0 should be ignored when adding course information. Additionally, if the course is already in the database in that specific student's information, the grade recorded in the database should never be lowered if the course is repeated.\n",
    "\n",
    "Part4 summary of database\n",
    "Please write a function named summary, which prints out a summary based on all the information stored in the database."
   ]
  },
  {
   "cell_type": "code",
   "execution_count": null,
   "id": "e451be72",
   "metadata": {},
   "outputs": [
    {
     "name": "stdout",
     "output_type": "stream",
     "text": [
      "students 2\n",
      "most courses completed 3 Peter\n",
      "best average grade 4.5 Eliza\n",
      "{'Peter': {'Data Structures and Algorithms': ('Data Structures and Algorithms', 1), 'Introduction to Programming': ('Introduction to Programming', 1), 'Advanced Course in Programming': ('Advanced Course in Programming', 1)}, 'Eliza': {'Introduction to Programming': ('Introduction to Programming', 5), 'Introduction to Computer Science': ('Introduction to Computer Science', 4)}}\n"
     ]
    }
   ],
   "source": [
    "def add_student(students: dict, name: str):\n",
    "    students[name] = {}\n",
    " \n",
    "def print_student(students: dict, name: str):\n",
    "    if not name in students:\n",
    "        print(f\"{name}: no such person in the database\")\n",
    "        return\n",
    " \n",
    "    students_completed_courses = students[name]\n",
    " \n",
    "    print(f\"{name}:\")\n",
    "    if len(students_completed_courses) == 0:\n",
    "        print(\" no completed courses\")\n",
    "    else:\n",
    "        print(f\" {len(students_completed_courses):} completed courses:\")\n",
    "        sum = 0\n",
    "        for course, grade in students_completed_courses.items():\n",
    "            course_grade = grade[1]\n",
    "            print(f\"  {course} {course_grade}\")\n",
    "            sum += course_grade\n",
    " \n",
    "        print(f\" average grade {sum/len(students_completed_courses):.1f}\")\n",
    " \n",
    "def add_course(students: dict, name: str, completion: tuple):\n",
    "    students_completed_courses = students[name]\n",
    "    course_name = completion[0]\n",
    "    course_grade = completion[1]\n",
    " \n",
    "    # failed course is not recorded in the database\n",
    "    if course_grade==0:\n",
    "        return\n",
    " \n",
    "    # if previous grade is higher, new grade is not recorded in the database\n",
    "    if course_name in students_completed_courses:\n",
    "        if students_completed_courses[course_name][1] > course_grade:\n",
    "            return\n",
    " \n",
    "    students_completed_courses[course_name] = completion\n",
    " \n",
    "def summary(students: dict):\n",
    "    print(f\"students {len(students)}\")\n",
    "    most_courses_count = 0\n",
    "    best_avg_grade = 0\n",
    "    for name, completions in students.items():\n",
    "        if len(completions) > most_courses_count:\n",
    "            most_courses = name\n",
    "            most_courses_count = len(students[most_courses])\n",
    " \n",
    "        sum = 0\n",
    "        for course, grade in completions.items():\n",
    "            sum += grade[1]\n",
    " \n",
    "        if len(completions)==0:\n",
    "            avg = 0\n",
    "        else:\n",
    "            avg = sum/len(completions)\n",
    " \n",
    "        if avg>best_avg_grade:\n",
    "            best_avg_grade = avg\n",
    "            best = name\n",
    " \n",
    "    print(f\"most courses completed {most_courses_count} {most_courses}\")\n",
    "    print(f\"best average grade {best_avg_grade:.1f} {best}\")\n",
    "\n",
    "\n",
    "students = {}\n",
    "add_student(students, \"Peter\")\n",
    "add_student(students, \"Eliza\")\n",
    "add_course(students, \"Peter\", (\"Data Structures and Algorithms\", 1))\n",
    "add_course(students, \"Peter\", (\"Introduction to Programming\", 1))\n",
    "add_course(students, \"Peter\", (\"Advanced Course in Programming\", 1))\n",
    "add_course(students, \"Eliza\", (\"Introduction to Programming\", 5))\n",
    "add_course(students, \"Eliza\", (\"Introduction to Computer Science\", 4))\n",
    "summary(students)\n",
    "\n",
    "print(students)"
   ]
  }
 ],
 "metadata": {
  "kernelspec": {
   "display_name": "Python 3",
   "language": "python",
   "name": "python3"
  },
  "language_info": {
   "codemirror_mode": {
    "name": "ipython",
    "version": 3
   },
   "file_extension": ".py",
   "mimetype": "text/x-python",
   "name": "python",
   "nbconvert_exporter": "python",
   "pygments_lexer": "ipython3",
   "version": "3.13.1"
  }
 },
 "nbformat": 4,
 "nbformat_minor": 5
}
