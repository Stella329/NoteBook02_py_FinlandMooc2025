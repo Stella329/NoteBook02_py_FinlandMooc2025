{
 "cells": [
  {
   "cell_type": "markdown",
   "id": "3355b8c2",
   "metadata": {},
   "source": [
    "\n",
    "# Python Programming MOOC 2025\n",
    "## Introduction to Programming\n",
    "\n",
    "## Part 1"
   ]
  },
  {
   "cell_type": "markdown",
   "id": "1c170868",
   "metadata": {},
   "source": [
    "---"
   ]
  },
  {
   "cell_type": "markdown",
   "id": "7a618042",
   "metadata": {},
   "source": [
    "## Part01_20: students_in_groups"
   ]
  },
  {
   "cell_type": "markdown",
   "id": "fc50b9f7",
   "metadata": {},
   "source": [
    "Please write a program which asks for the number of students on a course and the desired group size. The program will then print out the number of groups formed from the students on the course. If the division is not even, one of the groups may have fewer members than specified.\n",
    "\n",
    "If you can't get your code working as expected, it is absolutely okay to move on and come back to this exercise later. The topic of the next section is conditional statements. This exercise can also be solved using a conditional construction.\n",
    "\n",
    "Sample output\n",
    "How many students on the course? 8\n",
    "Desired group size? 4\n",
    "Number of groups formed: 2\n",
    "\n",
    "Sample output\n",
    "How many students on the course? 11\n",
    "Desired group size? 3\n",
    "Number of groups formed: 4"
   ]
  },
  {
   "cell_type": "code",
   "execution_count": 2,
   "id": "d44cc8b3",
   "metadata": {},
   "outputs": [
    {
     "ename": "ValueError",
     "evalue": "invalid literal for int() with base 10: ''",
     "output_type": "error",
     "traceback": [
      "\u001b[31m---------------------------------------------------------------------------\u001b[39m",
      "\u001b[31mValueError\u001b[39m                                Traceback (most recent call last)",
      "\u001b[36mCell\u001b[39m\u001b[36m \u001b[39m\u001b[32mIn[2]\u001b[39m\u001b[32m, line 2\u001b[39m\n\u001b[32m      1\u001b[39m \u001b[38;5;66;03m# src/students_in_groups.py\u001b[39;00m\n\u001b[32m----> \u001b[39m\u001b[32m2\u001b[39m students = \u001b[38;5;28;43mint\u001b[39;49m\u001b[43m(\u001b[49m\u001b[38;5;28;43minput\u001b[39;49m\u001b[43m(\u001b[49m\u001b[33;43m\"\u001b[39;49m\u001b[33;43mHow many students on the course? \u001b[39;49m\u001b[33;43m\"\u001b[39;49m\u001b[43m)\u001b[49m\u001b[43m)\u001b[49m\n\u001b[32m      3\u001b[39m group_size = \u001b[38;5;28mint\u001b[39m(\u001b[38;5;28minput\u001b[39m(\u001b[33m\"\u001b[39m\u001b[33mDesired group size? \u001b[39m\u001b[33m\"\u001b[39m))\n\u001b[32m      5\u001b[39m groups = (students + group_size - \u001b[32m1\u001b[39m) // group_size\n",
      "\u001b[31mValueError\u001b[39m: invalid literal for int() with base 10: ''"
     ]
    }
   ],
   "source": [
    "# src/students_in_groups.py\n",
    "students = int(input(\"How many students on the course? \"))\n",
    "group_size = int(input(\"Desired group size? \"))\n",
    " \n",
    "groups = (students + group_size - 1) // group_size\n",
    " \n",
    "print(\"Number of groups formed:\", groups)\n",
    "\n",
    "\n",
    "# My code\n",
    "student = int(input('How many students on the course?'))\n",
    "size = int(input('Desired group size?'))\n",
    "\n",
    "modulo = student % size\n",
    "group = student // size\n",
    "if modulo > 0:\n",
    "    print(f'Number of groups formed: {group+1}')\n",
    "else: \n",
    "    print(f'Number of groups formed: {group}')"
   ]
  }
 ],
 "metadata": {
  "kernelspec": {
   "display_name": "Python 3",
   "language": "python",
   "name": "python3"
  },
  "language_info": {
   "codemirror_mode": {
    "name": "ipython",
    "version": 3
   },
   "file_extension": ".py",
   "mimetype": "text/x-python",
   "name": "python",
   "nbconvert_exporter": "python",
   "pygments_lexer": "ipython3",
   "version": "3.13.1"
  }
 },
 "nbformat": 4,
 "nbformat_minor": 5
}
